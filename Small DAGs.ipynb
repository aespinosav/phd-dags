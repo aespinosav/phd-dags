{
 "cells": [
  {
   "cell_type": "markdown",
   "metadata": {},
   "source": [
    "# The interesting 4-node DAGs as traffic networks"
   ]
  },
  {
   "cell_type": "markdown",
   "metadata": {},
   "source": [
    "## Motivation (Network motifs)"
   ]
  },
  {
   "cell_type": "markdown",
   "metadata": {},
   "source": [
    "The motivation for finding simple structures, appart from the fact that they can shed light on seemingly paradoxical behaviour of traffic networks, is that small structures will inevitably appear as subgraphs of larger scale networks.\n",
    "\n",
    "If we can understand the bhaviour of these small networks and understand their traffic regimes at different demand levels, and identify the relatinship their parameters have with switches between these demand regimes. It might be possible to understand how the overall PoA for a large network arise from the PoA on specific subgraphs of the network."
   ]
  },
  {
   "cell_type": "markdown",
   "metadata": {},
   "source": [
    "## Ennumerating the 4-node traffic networks"
   ]
  },
  {
   "cell_type": "markdown",
   "metadata": {},
   "source": [
    "Our aim is to identify the small-scale structures in urban road networks that lead to counterintuitive or paradoxical behaviour. A prime example of this is the Braess Paradox that happens in a 4-node network.\n",
    "\n",
    "Since we want simple structures where the behaviour of the network might be *strange*, we will be looking to understand the traffic assingment in detail, hence only a single OD pair will be used.\n",
    "\n",
    "To get down to the simple structures, we will be looking at DAGs with a partial ordering induced by the origin and destination nodes. The ordering is the natural one in the sense that $b > a$ if node $b$ is downstream from $a$. We will call the origin node $O$ and the destination node $D$\n",
    "\n",
    "We are looking for networks that fulfill the following conditions:\n",
    "\n",
    " 1. All nodes ($n_i \\in \\mathcal{N}$) must satisfy,\n",
    "    * $n_i > O$,\n",
    "    * $n_i < D$\n",
    "      \n",
    " 2. The graph is acyclic.\n",
    " \n",
    "These conditions impose two important restrictions on the adjacency matrix of the networks we are looking for. The first is that the adjacency matrix $\\mathsf{A}$ of the network must be upper triangular (or it should be possible to relabel the nodes so that it is). Naturally the first node is the $O$, and the last one is $D$, so we are imposing that $O$ must be the least node in the graph and $D$ must be the greatest.\n",
    "\n",
    "Also, the fact that all the nodes must be comparable to both the origin and the destination means that the remaining two nodes must have both in-degree and out-degree of at least 1. Which means that there cannot be any rows or columns in the matrix (except the first column and the last row) whose elements are all $0$.\n",
    "\n",
    "We are also able to order the remaining two nodes in the following way. Since all nodes need to be downstream of $O$ that guarantees that at least one of them will have an incoming edge that is adjacent to $O$. So WLOG we can label that node as the second node. The third node must therefore have an outgoing edge that is incident to $D$.\n",
    "\n",
    "Therefore the adjacency matrix must have the following form,\n",
    "$$\n",
    "\\mathsf{A} = \n",
    "\\begin{pmatrix}\n",
    "0&1&\\Box&\\Box\\\\\n",
    "0&0&\\Box&\\Box\\\\\n",
    "0&0&0&1\\\\\n",
    "0&0&0&0\n",
    "\\end{pmatrix}\n",
    "$$\n",
    "\n",
    "Where the squares are either $0$ or $1$. So there are four possible combinations for the first row, and there are only three possible combinations for the second row since the row cannot have all zeroes. In addition, out of the 12 different graphs, two of those result in an all-zero column, $(1, 0, 0)$ and $(1,0,1)$ with $(0,1)$. Which leaves us with 10 different possible graphs."
   ]
  },
  {
   "cell_type": "markdown",
   "metadata": {},
   "source": [
    "<img src=\"4DAGs.svg\" width=70%>"
   ]
  },
  {
   "cell_type": "markdown",
   "metadata": {},
   "source": [
    "## Linear cost functions"
   ]
  },
  {
   "cell_type": "markdown",
   "metadata": {},
   "source": [
    "In the particular case that we are dealing with affine cost functions on the edges of the form,\n",
    "$$\n",
    "f_i(x) = a_i + b_i x\n",
    "$$\n",
    "We can simplify the graphs even further whilst keeping the cost functions for the edges affine by utilising graph contractions on nodes 2 and 3.\n",
    "\n",
    "That is, if node 2 or three have both in and out-degree of 1, we can replace the node and its incident edges by a single edge. In terms of the traffic assignment problem, we can do this without affecting the outcome, we are in reality aggregating 2 edges into one as long as the cost of going down the both edges corresponds to the cost function assigned on the new edge.\n",
    "\n",
    "If we have removed edges 1 and 2 and replaced them with edge 3, we have,\n",
    "\n",
    "\\begin{align}\n",
    "f_3(x) &= f_1(x) + f_2(x) \\\\\n",
    "& = (a_1 + a_2) + (b_1 + b_2) x \\\\\n",
    "& = a_3 + b_3x.\n",
    "\\end{align}\n",
    "\n",
    "In general, \n",
    "\\begin{align}\n",
    "f_{\\text{sum}}(x) &= \\sum_{i=1}^n f_i(x) \\\\\n",
    "& = \\left( \\sum_{i = 1}^n a_i \\right) + \\left( \\sum_{i = 1}^n b_i \\right) x \\\\\n",
    "& = a_{\\text{sum}} + b_{\\text{sum}} x\n",
    "\\end{align}\n",
    "\n",
    "Therefore, by using contractions (and symmetry) we can reduce the number of structures to 6 different graphs.\n",
    "\n",
    "  1. Lollipop graph\n",
    "  2. Parallel 2-link graph\n",
    "  3. Braess graph\n",
    "  4. Lollopop in parallel with a link\n",
    "  5. Parallel 3-link graph\n",
    "  6. Braess in parallel with a link\n",
    "  \n",
    "If we number the graphs in the diagram above from 1 to 10 starting at the top left, going down and then continuing at the top right going down.\n",
    "\n",
    "The first (**1**) graph can be contracted to a single OD pair with a single link, which is trivial for the traffic assignment. The second (**2**) and third (**3**) graphs can be contracted to the *lollipop* and *reverse lollipop* networks respectivley. Which in terms of traffic assignment they are equivalent since the order in which the links are traversed does not matter."
   ]
  },
  {
   "cell_type": "markdown",
   "metadata": {},
   "source": [
    "*The lollipop network*\n",
    "<img src=\"lollipop.svg\" width=45%>"
   ]
  },
  {
   "cell_type": "markdown",
   "metadata": {},
   "source": [
    "Graphs **4** and **6** can be contracted to a 2 parallel link network between the origin and the destination."
   ]
  },
  {
   "cell_type": "markdown",
   "metadata": {},
   "source": [
    "*The 2 parallel link network*\n",
    "<img src=\"2p-link.svg\" width=35%>"
   ]
  },
  {
   "cell_type": "markdown",
   "metadata": {},
   "source": [
    "Graph **5** is the Braess network"
   ]
  },
  {
   "cell_type": "markdown",
   "metadata": {},
   "source": [
    "<img src=\"braess.svg\" width=35%>"
   ]
  },
  {
   "cell_type": "markdown",
   "metadata": {},
   "source": [
    "Graphs **7** and **8** can be contracted to networks that have a link from $O$ to $D$ in parallel with a lollipop and reverse-lollipop respectivley. So they can be considered the same structure."
   ]
  },
  {
   "cell_type": "markdown",
   "metadata": {},
   "source": [
    "<img src=\"link-p-lol.svg\" width=35%>"
   ]
  },
  {
   "cell_type": "markdown",
   "metadata": {},
   "source": [
    "Graph **9** can be contracted to a network of three parallel links"
   ]
  },
  {
   "cell_type": "markdown",
   "metadata": {},
   "source": [
    "<img src=\"3p-link.svg\" width=35%>"
   ]
  },
  {
   "cell_type": "markdown",
   "metadata": {},
   "source": [
    "Graph **10** can't be contracted, but from inspection it is clear that it is a Braess structure in parallel with a single link."
   ]
  },
  {
   "cell_type": "markdown",
   "metadata": {},
   "source": [
    "<img src=\"link-p-braess.svg\" width=40%>"
   ]
  },
  {
   "cell_type": "markdown",
   "metadata": {},
   "source": [
    "It is interesting (yet perhaps useless) to note that by considering the 4-node structures, once the graphs have been reduced we end up with 2 structures each of 2-nodes, 3-nodes and 4-nodes.\n",
    "\n",
    "In each of the three cases, we have a *basic* structure and the augmented version, where a parallel link from $O$ to $D$ has been added in parallel to the basic structure.\n",
    "\n",
    "So we end up with:\n",
    "\n",
    "  * 2 nodes:\n",
    "      1. Parallel link (2 edges)\n",
    "          + $$\n",
    "             \\mathsf{A} = \n",
    "             \\begin{pmatrix}\n",
    "             0&2\\\\\n",
    "             0&0\n",
    "             \\end{pmatrix}\n",
    "            $$\n",
    "      2. Parallel link (3 edges / augmented parallel link network)\n",
    "          + $$\n",
    "             \\mathsf{A} = \n",
    "             \\begin{pmatrix}\n",
    "               0&3\\\\\n",
    "               0&0\n",
    "             \\end{pmatrix}\n",
    "            $$\n",
    "  * 3 nodes:\n",
    "      1. Lollipop network\n",
    "          + $$\n",
    "             \\mathsf{A} = \n",
    "             \\begin{pmatrix}\n",
    "               0&1&0\\\\\n",
    "               0&0&2\\\\\n",
    "               0&0&0\n",
    "             \\end{pmatrix}\n",
    "            $$\n",
    "      2. Augmented lollipo network (lollipop parallel to a link)\n",
    "          + $$\n",
    "             \\mathsf{A} = \n",
    "             \\begin{pmatrix}\n",
    "               0&1&1\\\\\n",
    "               0&0&2\\\\\n",
    "               0&0&0\n",
    "             \\end{pmatrix}\n",
    "            $$\n",
    "  * 4 nodes:\n",
    "      1. Braess network\n",
    "          + $$\n",
    "             \\mathsf{A} = \n",
    "             \\begin{pmatrix}\n",
    "               0&1&1&0\\\\\n",
    "               0&0&1&1\\\\\n",
    "               0&0&0&1\\\\\n",
    "               0&0&0&0\n",
    "             \\end{pmatrix}\n",
    "            $$\n",
    "      2. Augmented Braess network (Braess structure parallel to a link)\n",
    "          + $$\n",
    "             \\mathsf{A} = \n",
    "             \\begin{pmatrix}\n",
    "               0&1&1&1\\\\\n",
    "               0&0&1&1\\\\\n",
    "               0&0&0&1\\\\\n",
    "               0&0&0&0\n",
    "             \\end{pmatrix}\n",
    "            $$"
   ]
  },
  {
   "cell_type": "markdown",
   "metadata": {},
   "source": [
    "While it may appear that additional simplifications can be made, for example, the lollipop network being contracted to a parallel link network. Doing so changes the percieved behaviour of the costs on the links.\n",
    "\n",
    "There are only two possible paths in the network, lets call their flows $y_1$ and $y_2$. The link they share has cost function $f_1$, and the other edges have functions $f_2$ and $f_3$,\n",
    "\n",
    "The cost function of the paths has a form like this,\n",
    "\n",
    "$$\n",
    "f_{y_1}(y_1) = f_1(y_1 + y_2) + f_2(y_2).\n",
    "$$\n",
    "And since $q = y_1 + y_2$ the cost of the initial edge is given by the demand on the network and is equivalent of modifying the free-flow cost of the path according to the demand on the network. $y_2$ is simply the same as the flow on the path since its the only path that utilises that link.\n",
    "\n",
    "Therefore we have,\n",
    "\n",
    "\\begin{align}\n",
    "f_{y_1}(y_1) &= a_1 + qb_1 + a_2+  b_2 x_2, \\\\\n",
    "& = (a_1+ a_2 + qb_1) + b_2 x_2.\n",
    "\\end{align}\n",
    "\n",
    "If we were purely thinking of static traffic assignment, then there wouldnt be aproblem and this simplification could be made, however, since we care about the network behaviour in relation to changes in the demand on the network this actually makes the network explicitly sensitive to the demand level (non-scleronomous system?).\n",
    "\n",
    "The action of actually contracting the network changes the network to the path network, which for the small 3 link graph appears to reduce the variables in the problem, owever for larger networks, the number of paths generally far outnumbers the number of links."
   ]
  },
  {
   "cell_type": "markdown",
   "metadata": {},
   "source": [
    "## Transformation of cost functions by treating these structures as single links"
   ]
  },
  {
   "cell_type": "markdown",
   "metadata": {},
   "source": [
    "Understanding the way these graphs respond to changes of demand, could be seen as a way of building nonlinear cost functions for edges by *replacing* them with one of these networks. This means that we can solve the TA for links that might have a strange cost function (with congestion charging possibly using the lollipop noetwork) as if the network was composed of edges with linear cost functions."
   ]
  },
  {
   "cell_type": "code",
   "execution_count": null,
   "metadata": {
    "collapsed": true
   },
   "outputs": [],
   "source": []
  }
 ],
 "metadata": {
  "kernelspec": {
   "display_name": "Python 2",
   "language": "python",
   "name": "python2"
  },
  "language_info": {
   "codemirror_mode": {
    "name": "ipython",
    "version": 2
   },
   "file_extension": ".py",
   "mimetype": "text/x-python",
   "name": "python",
   "nbconvert_exporter": "python",
   "pygments_lexer": "ipython2",
   "version": "2.7.11"
  }
 },
 "nbformat": 4,
 "nbformat_minor": 0
}
